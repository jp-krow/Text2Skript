{
  "nbformat": 4,
  "nbformat_minor": 0,
  "metadata": {
    "colab": {
      "name": "Text2Skript.ipynb",
      "provenance": [],
      "collapsed_sections": [],
      "toc_visible": true,
      "include_colab_link": true
    },
    "kernelspec": {
      "name": "python3",
      "display_name": "Python 3"
    },
    "accelerator": "GPU"
  },
  "cells": [
    {
      "cell_type": "markdown",
      "metadata": {
        "id": "view-in-github",
        "colab_type": "text"
      },
      "source": [
        "<a href=\"https://colab.research.google.com/github/jp-krow/Text2Skript/blob/main/Text2Skript.ipynb\" target=\"_parent\"><img src=\"https://colab.research.google.com/assets/colab-badge.svg\" alt=\"Open In Colab\"/></a>"
      ]
    },
    {
      "cell_type": "markdown",
      "metadata": {
        "id": "lU2f0aSB3qV0"
      },
      "source": [
        "\n",
        "# Text2Skript\n",
        "\n",
        "Hello! To start, simply run this cell by clicking the play button on the very left of the text below (looks like a play button), after the button stops loading (takes 1 - 5 minutes) you may run the bottom code which you can interact with the model."
      ]
    },
    {
      "cell_type": "code",
      "metadata": {
        "id": "9IiQy3FqvF7_",
        "cellView": "form"
      },
      "source": [
        "#@title Run me! (click the play button on the left of me, also dont run me twice!)\n",
        "#@markdown Below you will see the downloading progress, when the button stops loading, you may move to the next cell (below)\n",
        "\n",
        "%tensorflow_version 1.x\n",
        "!pip install -q gpt-2-simple #\n",
        "import gpt_2_simple as gpt2 # Importing librarys\n",
        "import tarfile #\n",
        "from datetime import datetime #\n",
        "\n",
        "!wget https://raw.githubusercontent.com/tonikelope/megadown/master/megadown -O megadown.sh\n",
        "!sudo apt-get install openssl\n",
        "!sudo apt-get install pv && sudo apt-get install jq\n",
        "!bash megadown.sh https://mega.nz/#!CHBFkY6B!RIi3ofooVHEfTpXivrsdCRo35MO1P2k3NLqR4nw5GiE\n",
        "\n",
        "tar = tarfile.open(\"checkpoint_run1.tar\", \"r:\") #\n",
        "tar.extractall() # Extracting .tar file (model)\n",
        "tar.close()\n",
        "!mv /content/checkpoint_run1 /content/checkpoint\n",
        "sess = gpt2.start_tf_sess() # \n",
        "gpt2.load_gpt2(sess, run_name='run1')"
      ],
      "execution_count": null,
      "outputs": []
    },
    {
      "cell_type": "markdown",
      "metadata": {
        "id": "cZQZtjPj4rbV"
      },
      "source": [
        "# After the first cell stops loading, you may run this one.\n",
        "\n",
        "After you type your sentence, click the play button on the left to submit the sentence, wait a little bit, and you will see a few responses.\n",
        "Unstringify the JSON response to see your result.\n"
      ]
    },
    {
      "cell_type": "code",
      "metadata": {
        "id": "7kSRYMtDGo7e",
        "cellView": "form"
      },
      "source": [
        "#@title Enter your sentence below.\n",
        "#@markdown Run this cell (the play button at the left of this text), wait a little bit and responses will appear below.\n",
        "Your_Sentence = \"this command below sends hello to the player\"  #@param {type: \"string\"}\n",
        "#@markdown Results will be saved (and overwrited) in results.txt\n",
        "\n",
        "import json\n",
        "\n",
        "es = json.dumps(Your_Sentence, separators=(',', ':'))\n",
        "\n",
        "resp = gpt2.generate(sess,\n",
        "              length=150,\n",
        "              temperature=.7,\n",
        "              prefix= \"```\\n# \" + es,\n",
        "              nsamples=3,\n",
        "              batch_size=3,\n",
        "              return_as_list=True\n",
        "              )\n",
        "\n",
        "print(\"Finished! See result in: result.txt\")\n",
        "\n",
        "file = open(\"result.txt\", \"w\")\n",
        "file.write((str(resp).replace(\"\\\\n\",\"\\n\").replace(\"\\\\t\",\"\\t\").replace(\"\\\\\", \"\") + \"\\n\"))\n",
        "file.close()"
      ],
      "execution_count": null,
      "outputs": []
    },
    {
      "cell_type": "markdown",
      "metadata": {
        "id": "RBNu4elBEkCW"
      },
      "source": [
        "# Generating Skript from Skript\n",
        "\n",
        "Sounds weird, but essentually you can \"continue\" what you have currently with a skript. For example, if you inputed \"on death:\" and submitted, then it will try to carry on of what you entered.\n",
        "\n",
        "This actually works better than generating a skript from a sentence, since it gets a hint of what you want it to do!\n",
        "\n",
        "# **JSONIFY YOUR INPUT FIRST!**\n",
        "(https://onlinetexttools.com/json-stringify-text)"
      ]
    },
    {
      "cell_type": "code",
      "metadata": {
        "id": "qGcl6se3E8SZ",
        "cellView": "form"
      },
      "source": [
        "#@title Enter your sentence below.\n",
        "#@markdown Run this cell (the play button at the left of this text), wait a little bit and responses will appear below. Make sure you jsonify your skript first!\n",
        "Your_Skript = \"# this command will send hello to the player.\\\\n\\\\ncommand /hello:\\\\n\\\\ttrigger:\\\\n\\\\t\\\\tsend\"  #@param {type: \"string\"}\n",
        "#@markdown Results will be saved (and overwrited) in generate-result.txt\n",
        "\n",
        "resp = gpt2.generate(sess,\n",
        "              length=150,\n",
        "              temperature=.7,\n",
        "              prefix= \"```\\n\" + Your_Skript,\n",
        "              nsamples=3,\n",
        "              batch_size=3,\n",
        "              return_as_list=True\n",
        "              )\n",
        "\n",
        "print(\"Finished! See result in: generate-result.txt\")\n",
        "\n",
        "file = open(\"generate-result.txt\", \"w\")\n",
        "file.write((str(resp).replace(\"\\\\n\",\"\\n\").replace(\"\\\\t\",\"\\t\").replace(\"\\\\\", \"\") + \"\\n\"))\n",
        "file.close()"
      ],
      "execution_count": null,
      "outputs": []
    }
  ]
}